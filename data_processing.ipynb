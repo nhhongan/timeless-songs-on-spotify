{
 "cells": [
  {
   "cell_type": "code",
   "execution_count": null,
   "metadata": {},
   "outputs": [],
   "source": [
    "import numpy as np\n",
    "import pandas as pd\n",
    "import matplotlib.pyplot as plt\n",
    "import mysql.connector\n",
    "import json"
   ]
  },
  {
   "cell_type": "code",
   "execution_count": null,
   "metadata": {},
   "outputs": [],
   "source": [
    "from spotify_api import authentication, get_track_features, get_track, get_artist"
   ]
  },
  {
   "cell_type": "code",
   "execution_count": null,
   "metadata": {},
   "outputs": [],
   "source": [
    "authentication()"
   ]
  },
  {
   "cell_type": "code",
   "execution_count": null,
   "metadata": {},
   "outputs": [],
   "source": [
    "#connect mysql database\n",
    "conn = mysql.connector.connect(\n",
    "    host=\"localhost\",\n",
    "    user=\"root\",\n",
    "    password=\"210502\",\n",
    "    database=\"timeless_song\"\n",
    ")\n",
    "cursor = conn.cursor()\n"
   ]
  },
  {
   "cell_type": "code",
   "execution_count": null,
   "metadata": {},
   "outputs": [],
   "source": [
    "cursor.execute(\"SELECT * FROM top_80s\")\n",
    "top_80s = cursor.fetchall()\n",
    "top_80s = pd.DataFrame(top_80s, columns=cursor.column_names)\n",
    "top_80s.drop(columns=['target'], inplace=True)\n",
    "top_80s['Song'] = top_80s['Song'].str.replace('\\\"', '')\n",
    "top_80s['Song'] = top_80s['Song'].str.upper()\n",
    "top_80s = top_80s.rename(columns={'Song': 'song'})\n",
    "top_80s.rename(columns={'Artist Names': 'artist'}, inplace=True)\n",
    "top_80s['artist'] = top_80s['artist'].str.replace('\\\"', '')\n",
    "top_80s['artist'] = top_80s['artist'].str.upper()\n",
    "top_80s['song_id'] = top_80s['uri'].str.split(':').str[-1]\n",
    "top_80s"
   ]
  },
  {
   "cell_type": "code",
   "execution_count": null,
   "metadata": {},
   "outputs": [],
   "source": [
    "get_track_features('3hVrI7snZMTmHCnbwME47u')"
   ]
  },
  {
   "cell_type": "code",
   "execution_count": null,
   "metadata": {},
   "outputs": [],
   "source": [
    "physical = get_track('3hVrI7snZMTmHCnbwME47u')\n",
    "physical\n"
   ]
  },
  {
   "cell_type": "code",
   "execution_count": null,
   "metadata": {},
   "outputs": [],
   "source": [
    "artist = get_artist('4BoRxUdrcgbbq1rxJvvhg9')\n",
    "artist"
   ]
  },
  {
   "cell_type": "code",
   "execution_count": null,
   "metadata": {},
   "outputs": [],
   "source": [
    "artist_ids = [artist['id'] for artist in physical['artists']]\n",
    "access_token = \"BQBBmD9sst-nIKSE9m_4mexN3PEvq-hceNyCLNOkIV9hYTU9IaUcbXtcZdBSkMA7k-tUydTHo4FsEeimxjEZm2oZ7w6_XkL0SLDcPQV28lcHGQSp5jA\"\n",
    "\n",
    "# Fetch additional information about each artist to get genres\n",
    "genres = []\n",
    "for artist_id in artist_ids:\n",
    "    artist_info = get_artist(artist_id)\n",
    "    genres.extend(artist_info.get('genres', []))\n",
    "\n",
    "genres = list(set(genres))\n",
    "print(\"Genres:\", genres)"
   ]
  },
  {
   "cell_type": "code",
   "execution_count": null,
   "metadata": {},
   "outputs": [],
   "source": [
    "#add genre to each song in top_80s by using song_id to get_track to get artist_id to get artist_info to get genres\n",
    "top_80s['genres'] = None\n",
    "for index, row in top_80s.iterrows():\n",
    "    song_id = row['song_id']\n",
    "    track = get_track(song_id)\n",
    "    artist_ids = [artist['id'] for artist in track['artists']]\n",
    "    genres = []\n",
    "    for artist_id in artist_ids:\n",
    "        artist_info = get_artist(artist_id)\n",
    "        genres.extend(artist_info.get('genres', []))\n",
    "    top_80s.at[index, 'genres'] = genres\n",
    "top_80s"
   ]
  },
  {
   "cell_type": "code",
   "execution_count": null,
   "metadata": {},
   "outputs": [],
   "source": [
    "top_80s.to_csv('top_80s.csv', index=False)"
   ]
  },
  {
   "cell_type": "code",
   "execution_count": null,
   "metadata": {},
   "outputs": [],
   "source": [
    "cursor.execute(\"SELECT * FROM top_90s\")\n",
    "top_90s = cursor.fetchall()\n",
    "top_90s = pd.DataFrame(top_90s, columns=cursor.column_names)\n",
    "top_90s.drop(columns=['target'], inplace=True)\n",
    "top_90s['Song'] = top_90s['Song'].str.replace('\\\"', '')\n",
    "top_90s['Song'] = top_90s['Song'].str.upper()\n",
    "top_90s = top_90s.rename(columns={'Song': 'song'})\n",
    "top_90s.rename(columns={'Artist Names': 'artist'}, inplace=True)\n",
    "top_90s['artist'] = top_90s['artist'].str.replace('\\\"', '')\n",
    "top_90s['artist'] = top_90s['artist'].str.upper()\n",
    "top_90s"
   ]
  },
  {
   "cell_type": "code",
   "execution_count": null,
   "metadata": {},
   "outputs": [],
   "source": [
    "cursor.execute(\"SELECT song, artist, genre FROM song_normalize\")\n",
    "song_normalize = cursor.fetchall()\n",
    "song_normalize = pd.DataFrame(song_normalize, columns=cursor.column_names)\n",
    "song_normalize['song'] = song_normalize['song'].str.replace('\\\"', '')\n",
    "song_normalize['song'] = song_normalize['song'].str.upper()\n",
    "song_normalize['artist'] = song_normalize['artist'].str.upper()\n",
    "song_normalize"
   ]
  },
  {
   "cell_type": "code",
   "execution_count": null,
   "metadata": {},
   "outputs": [],
   "source": [
    "top_80s = pd.merge(top_80s, song_normalize, on=['song', 'artist'], how='left')\n",
    "top_80s"
   ]
  },
  {
   "cell_type": "code",
   "execution_count": null,
   "metadata": {},
   "outputs": [],
   "source": [
    "top_90s = pd.merge(top_90s, song_normalize, on=['song', 'artist'], how='left')\n",
    "top_90s"
   ]
  },
  {
   "cell_type": "code",
   "execution_count": null,
   "metadata": {},
   "outputs": [],
   "source": [
    "cursor.execute(\"SELECT title, artist, year, streams FROM stream_count\")\n",
    "stream_count = cursor.fetchall()\n",
    "stream_count = pd.DataFrame(stream_count, columns=cursor.column_names)\n",
    "stream_count.rename(columns={'title': 'song'}, inplace=True)\n",
    "stream_count['song'] = stream_count['song'].str.replace('\\\"', '')\n",
    "stream_count['song'] = song_normalize['song'].str.upper()\n",
    "stream_count['artist'] = stream_count['artist'].str.upper()\n",
    "stream_count['year'] = stream_count['date'].str.split('-').str[0].astype(int)\n",
    "stream_count"
   ]
  },
  {
   "cell_type": "code",
   "execution_count": null,
   "metadata": {},
   "outputs": [],
   "source": [
    "stream_count.isna().sum()"
   ]
  },
  {
   "cell_type": "code",
   "execution_count": null,
   "metadata": {},
   "outputs": [],
   "source": [
    "top_2017_2021 = pd.read_csv('charts.csv')\n",
    "top_2017_2021.rename(columns={'title': 'song'}, inplace=True)\n",
    "top_2017_2021['year'] = top_2017_2021['date'].str.split('-').str[0].astype(int)\n",
    "top_2017_2021 = top_2017_2021[['song', 'artist', 'year', 'streams', 'url']]\n",
    "# top_2017_2021 = top_2017_2021.fillna(0)\n",
    "top_2017_2021"
   ]
  },
  {
   "cell_type": "code",
   "execution_count": null,
   "metadata": {},
   "outputs": [],
   "source": [
    "top_2017_2021.isna().sum()"
   ]
  },
  {
   "cell_type": "code",
   "execution_count": null,
   "metadata": {},
   "outputs": [],
   "source": [
    "streaming_2021 = top_2017_2021[top_2017_2021['year'] == 2021]\n",
    "\n",
    "streaming_2021.loc[:,'song'] = streaming_2021.loc[:,'song'].str.replace('\\\"', '')\n",
    "streaming_2021.loc[:,'song'] = streaming_2021.loc[:,'song'].str.upper()\n",
    "\n",
    "streaming_2021.loc[:,'artist'] = streaming_2021.loc[:,'artist'].str.replace('\\\"', '')\n",
    "streaming_2021.loc[:,'artist'] = streaming_2021.loc[:,'artist'].str.upper()\n",
    "streaming_2021"
   ]
  },
  {
   "cell_type": "code",
   "execution_count": null,
   "metadata": {},
   "outputs": [],
   "source": [
    "sum_streaming_2021 = streaming_2021.groupby(['song', 'artist', 'year']).agg({'streams': 'sum', 'url':'first'}).reset_index()\n",
    "\n",
    "sum_streaming_2021\n"
   ]
  },
  {
   "cell_type": "code",
   "execution_count": null,
   "metadata": {},
   "outputs": [],
   "source": [
    "streaming_2020 = top_2017_2021[top_2017_2021['year'] == 2020]\n",
    "\n",
    "streaming_2020.loc[:,'song'] = streaming_2020.loc[:,'song'].str.replace('\\\"', '')\n",
    "streaming_2020.loc[:,'song'] = streaming_2020.loc[:,'song'].str.upper()\n",
    "\n",
    "streaming_2020.loc[:,'artist'] = streaming_2020.loc[:,'artist'].str.replace('\\\"', '')\n",
    "streaming_2020.loc[:,'artist'] = streaming_2020.loc[:,'artist'].str.upper()\n",
    "streaming_2020"
   ]
  },
  {
   "cell_type": "code",
   "execution_count": null,
   "metadata": {},
   "outputs": [],
   "source": [
    "sum_streaming_2020 = streaming_2020.groupby(['song', 'artist', 'year']).agg({'streams': 'sum', 'url':'first'}).reset_index()\n",
    "\n",
    "sum_streaming_2020"
   ]
  },
  {
   "cell_type": "code",
   "execution_count": null,
   "metadata": {},
   "outputs": [],
   "source": [
    "streaming_2019 = top_2017_2021[top_2017_2021['year'] == 2019]\n",
    "\n",
    "streaming_2019.loc[:,'song'] = streaming_2019.loc[:,'song'].str.replace('\\\"', '')\n",
    "streaming_2019.loc[:,'song'] = streaming_2019.loc[:,'song'].str.upper()\n",
    "\n",
    "streaming_2019.loc[:,'artist'] = streaming_2019.loc[:,'artist'].str.replace('\\\"', '')\n",
    "streaming_2019.loc[:,'artist'] = streaming_2019.loc[:,'artist'].str.upper()\n",
    "streaming_2019"
   ]
  },
  {
   "cell_type": "code",
   "execution_count": null,
   "metadata": {},
   "outputs": [],
   "source": [
    "sum_streaming_2019 = streaming_2019.groupby(['song', 'artist', 'year']).agg({'streams': 'sum', 'url':'first'}).reset_index()\n",
    "\n",
    "sum_streaming_2019"
   ]
  },
  {
   "cell_type": "code",
   "execution_count": null,
   "metadata": {},
   "outputs": [],
   "source": [
    "streaming_2018 = top_2017_2021[top_2017_2021['year'] == 2018]\n",
    "\n",
    "streaming_2018.loc[:,'song'] = streaming_2018.loc[:,'song'].str.replace('\\\"', '')\n",
    "streaming_2018.loc[:,'song'] = streaming_2018.loc[:,'song'].str.upper()\n",
    "\n",
    "streaming_2018.loc[:,'artist'] = streaming_2018.loc[:,'artist'].str.replace('\\\"', '')\n",
    "streaming_2018.loc[:,'artist'] = streaming_2018.loc[:,'artist'].str.upper()\n",
    "streaming_2018"
   ]
  },
  {
   "cell_type": "code",
   "execution_count": null,
   "metadata": {},
   "outputs": [],
   "source": [
    "sum_streaming_2018 = streaming_2018.groupby(['song', 'artist', 'year']).agg({'streams': 'sum', 'url':'first'}).reset_index()\n",
    "\n",
    "sum_streaming_2018"
   ]
  },
  {
   "cell_type": "code",
   "execution_count": null,
   "metadata": {},
   "outputs": [],
   "source": [
    "streaming_2017 = top_2017_2021[top_2017_2021['year'] == 2017]\n",
    "\n",
    "streaming_2017.loc[:,'song'] = streaming_2017.loc[:,'song'].str.replace('\\\"', '')\n",
    "streaming_2017.loc[:,'song'] = streaming_2017.loc[:,'song'].str.upper()\n",
    "\n",
    "streaming_2017.loc[:,'artist'] = streaming_2017.loc[:,'artist'].str.replace('\\\"', '')\n",
    "streaming_2017.loc[:,'artist'] = streaming_2017.loc[:,'artist'].str.upper()\n",
    "streaming_2017"
   ]
  },
  {
   "cell_type": "code",
   "execution_count": null,
   "metadata": {},
   "outputs": [],
   "source": [
    "sum_streaming_2017 = streaming_2017.groupby(['song', 'artist', 'year']).agg({'streams': 'sum', 'url':'first'}).reset_index()\n",
    "\n",
    "sum_streaming_2017"
   ]
  },
  {
   "cell_type": "code",
   "execution_count": null,
   "metadata": {},
   "outputs": [],
   "source": [
    "merged_df = pd.merge(sum_streaming_2021, top_80s, on=['song', 'artist'], how='inner')\n",
    "merged_df = merged_df.sort_values(by='Hot100 Rank')\n",
    "merged_df"
   ]
  },
  {
   "cell_type": "code",
   "execution_count": null,
   "metadata": {},
   "outputs": [],
   "source": [
    "merged_df_2 = pd.merge(sum_streaming_2020, top_80s, on=['song', 'artist'], how='inner')\n",
    "merged_df_2 = merged_df_2.sort_values(by='Hot100 Rank')\n",
    "merged_df_2"
   ]
  },
  {
   "cell_type": "code",
   "execution_count": null,
   "metadata": {},
   "outputs": [],
   "source": [
    "merged_df_3 = pd.merge(sum_streaming_2019, top_80s, on=['song', 'artist'], how='inner')\n",
    "merged_df_3 = merged_df_3.sort_values(by='Hot100 Rank')\n",
    "merged_df_3"
   ]
  },
  {
   "cell_type": "code",
   "execution_count": null,
   "metadata": {},
   "outputs": [],
   "source": [
    "merged_df_4 = pd.merge(sum_streaming_2018, top_80s, on=['song', 'artist'], how='inner')\n",
    "merged_df_4 = merged_df_4.sort_values(by='Hot100 Rank')\n",
    "merged_df_4"
   ]
  },
  {
   "cell_type": "code",
   "execution_count": null,
   "metadata": {},
   "outputs": [],
   "source": [
    "merged_df_5 = pd.merge(sum_streaming_2017, top_80s, on=['song', 'artist'], how='inner')\n",
    "merged_df_5 = merged_df_4.sort_values(by='Hot100 Rank')\n",
    "merged_df_5"
   ]
  },
  {
   "cell_type": "code",
   "execution_count": null,
   "metadata": {},
   "outputs": [],
   "source": [
    "final_df = pd.concat([merged_df, merged_df_2, merged_df_3, merged_df_4, merged_df_5], axis=0)\n",
    "final_df = final_df.sort_values(by='streams', ascending=False)\n",
    "final_df = final_df.drop_duplicates(subset=['song', 'artist'], keep='first')\n",
    "final_df = final_df.sort_values(by='Hot100 Rank')\n",
    "print(len(final_df))\n",
    "final_df"
   ]
  }
 ],
 "metadata": {
  "kernelspec": {
   "display_name": "Python 3",
   "language": "python",
   "name": "python3"
  },
  "language_info": {
   "codemirror_mode": {
    "name": "ipython",
    "version": 3
   },
   "file_extension": ".py",
   "mimetype": "text/x-python",
   "name": "python",
   "nbconvert_exporter": "python",
   "pygments_lexer": "ipython3",
   "version": "3.12.2"
  }
 },
 "nbformat": 4,
 "nbformat_minor": 2
}
